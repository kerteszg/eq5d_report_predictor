{
 "cells": [
  {
   "cell_type": "code",
   "execution_count": 3,
   "id": "3cce84fa-6dc9-4ef6-9753-37b4175398bf",
   "metadata": {
    "tags": []
   },
   "outputs": [],
   "source": [
    "import pandas as pd\n",
    "import numpy as np"
   ]
  },
  {
   "cell_type": "markdown",
   "id": "44ff3a94-bcf9-40e9-a811-50c882c47aa6",
   "metadata": {
    "id": "a0YnybPriUKg"
   },
   "source": [
    "# Data Loading"
   ]
  },
  {
   "cell_type": "code",
   "execution_count": 26,
   "id": "8589d69b-3b82-424c-acd4-d4e01349180c",
   "metadata": {
    "tags": []
   },
   "outputs": [],
   "source": [
    "dataset = 'title_abstract_keywords'"
   ]
  },
  {
   "cell_type": "code",
   "execution_count": 27,
   "id": "2e445bbb-abd7-4bc8-ba9f-bcab8e6dbecd",
   "metadata": {
    "tags": []
   },
   "outputs": [],
   "source": [
    "df = pd.read_pickle(\"data/train_{}.pkl\".format(dataset))"
   ]
  },
  {
   "cell_type": "code",
   "execution_count": 28,
   "id": "9e04a9c6-4d11-4efc-8982-9f0d2deea24a",
   "metadata": {
    "tags": []
   },
   "outputs": [
    {
     "data": {
      "text/html": [
       "<div>\n",
       "<style scoped>\n",
       "    .dataframe tbody tr th:only-of-type {\n",
       "        vertical-align: middle;\n",
       "    }\n",
       "\n",
       "    .dataframe tbody tr th {\n",
       "        vertical-align: top;\n",
       "    }\n",
       "\n",
       "    .dataframe thead th {\n",
       "        text-align: right;\n",
       "    }\n",
       "</style>\n",
       "<table border=\"1\" class=\"dataframe\">\n",
       "  <thead>\n",
       "    <tr style=\"text-align: right;\">\n",
       "      <th></th>\n",
       "      <th>label</th>\n",
       "      <th>text</th>\n",
       "    </tr>\n",
       "  </thead>\n",
       "  <tbody>\n",
       "    <tr>\n",
       "      <th>0</th>\n",
       "      <td>1</td>\n",
       "      <td>Comparing measurement properties of EQ-5D-Y-3L...</td>\n",
       "    </tr>\n",
       "    <tr>\n",
       "      <th>1</th>\n",
       "      <td>0</td>\n",
       "      <td>Feasibility of the EQ-5D in the elderly popula...</td>\n",
       "    </tr>\n",
       "    <tr>\n",
       "      <th>2</th>\n",
       "      <td>1</td>\n",
       "      <td>Comparing the self-reported health-related qua...</td>\n",
       "    </tr>\n",
       "    <tr>\n",
       "      <th>3</th>\n",
       "      <td>1</td>\n",
       "      <td>Testing measurement properties of two EQ-5D yo...</td>\n",
       "    </tr>\n",
       "    <tr>\n",
       "      <th>4</th>\n",
       "      <td>1</td>\n",
       "      <td>Use of Antimalarial Agents is Associated with ...</td>\n",
       "    </tr>\n",
       "  </tbody>\n",
       "</table>\n",
       "</div>"
      ],
      "text/plain": [
       "   label                                               text\n",
       "0      1  Comparing measurement properties of EQ-5D-Y-3L...\n",
       "1      0  Feasibility of the EQ-5D in the elderly popula...\n",
       "2      1  Comparing the self-reported health-related qua...\n",
       "3      1  Testing measurement properties of two EQ-5D yo...\n",
       "4      1  Use of Antimalarial Agents is Associated with ..."
      ]
     },
     "execution_count": 28,
     "metadata": {},
     "output_type": "execute_result"
    }
   ],
   "source": [
    "df.head()"
   ]
  },
  {
   "cell_type": "code",
   "execution_count": 29,
   "id": "9282beee-d4cc-4f38-8687-e8fbd0c3338f",
   "metadata": {
    "tags": []
   },
   "outputs": [
    {
     "data": {
      "text/plain": [
       "label                                                    1\n",
       "text     Comparing measurement properties of EQ-5D-Y-3L...\n",
       "Name: 0, dtype: object"
      ]
     },
     "execution_count": 29,
     "metadata": {},
     "output_type": "execute_result"
    }
   ],
   "source": [
    "df.iloc[0, :]"
   ]
  },
  {
   "cell_type": "code",
   "execution_count": 30,
   "id": "e31cd564-ac78-44ed-9811-aff8fce7fc79",
   "metadata": {
    "tags": []
   },
   "outputs": [],
   "source": [
    "#subsets should be fixed for all tests\n",
    "#_val_ids = [2, 7, 24, 32, 36, 47, 49, 59, 61, 71, 72, 86, 90, 95, 96]\n",
    "#train_dataset = df[~df.index.isin(_val_ids)]\n",
    "#val_dataset = df[df.index.isin(_val_ids)]"
   ]
  },
  {
   "cell_type": "code",
   "execution_count": 31,
   "id": "d602d5c2-bba5-43ed-8fe4-17fa4b857b1a",
   "metadata": {
    "tags": []
   },
   "outputs": [],
   "source": [
    "#np.sum(train_dataset[\"label\"]) / len(train_dataset[\"label\"]), np.sum(val_dataset[\"label\"]) / len(val_dataset[\"label\"])"
   ]
  },
  {
   "cell_type": "code",
   "execution_count": 32,
   "id": "4d29da3c-df47-441e-b053-beef88a1e840",
   "metadata": {
    "tags": []
   },
   "outputs": [],
   "source": [
    "train_dataset = df"
   ]
  },
  {
   "cell_type": "code",
   "execution_count": 33,
   "id": "ee1d47e4-7218-4593-b59d-6fb2893a8f78",
   "metadata": {
    "tags": []
   },
   "outputs": [],
   "source": [
    "df = pd.read_pickle(\"data/test_{}.pkl\".format(dataset))"
   ]
  },
  {
   "cell_type": "code",
   "execution_count": 34,
   "id": "8cbd1663-793d-4e75-9704-ec1099d246c6",
   "metadata": {
    "tags": []
   },
   "outputs": [],
   "source": [
    "test_dataset = df"
   ]
  },
  {
   "cell_type": "code",
   "execution_count": 35,
   "id": "8f6e8461-aaf0-49ea-8704-5b3c5526d2cb",
   "metadata": {
    "tags": []
   },
   "outputs": [
    {
     "data": {
      "text/plain": [
       "0.6"
      ]
     },
     "execution_count": 35,
     "metadata": {},
     "output_type": "execute_result"
    }
   ],
   "source": [
    "np.sum(test_dataset[\"label\"]) / len(test_dataset[\"label\"])"
   ]
  },
  {
   "cell_type": "markdown",
   "id": "4af65162-796d-4ec1-b42e-b1ac5c5f3399",
   "metadata": {
    "id": "rh1ICeIiykZv"
   },
   "source": [
    "# Bag of words as a baseline"
   ]
  },
  {
   "cell_type": "code",
   "execution_count": 36,
   "id": "172f0889-b462-4065-a5c6-3e7d11687303",
   "metadata": {
    "tags": []
   },
   "outputs": [],
   "source": [
    "import nltk\n",
    "import re"
   ]
  },
  {
   "cell_type": "code",
   "execution_count": 37,
   "id": "0d6ffc1b-43c3-4aa6-860d-de78da096eaa",
   "metadata": {
    "tags": []
   },
   "outputs": [
    {
     "name": "stderr",
     "output_type": "stream",
     "text": [
      "[nltk_data] Downloading package punkt to /home/ubuntu/nltk_data...\n",
      "[nltk_data]   Package punkt is already up-to-date!\n",
      "[nltk_data] Downloading package stopwords to /home/ubuntu/nltk_data...\n",
      "[nltk_data]   Package stopwords is already up-to-date!\n"
     ]
    }
   ],
   "source": [
    "nltk.download('punkt')\n",
    "from nltk.tokenize import word_tokenize as wt \n",
    "\n",
    "nltk.download('stopwords')\n",
    "from nltk.corpus import stopwords"
   ]
  },
  {
   "cell_type": "code",
   "execution_count": 38,
   "id": "cb2532d3-3510-45c7-9d80-6a674f431b56",
   "metadata": {
    "tags": []
   },
   "outputs": [],
   "source": [
    "def dataset_prepare(dataset, data=None):\n",
    "    if data is None:\n",
    "        data = []\n",
    "        for i in range(dataset.shape[0]):\n",
    "            sms = dataset.iloc[i, 1]\n",
    "            sms = re.sub('[^A-Za-z]', ' ', sms)\n",
    "            sms = sms.lower()\n",
    "            tokenized_sms = wt(sms)\n",
    "            sms_processed = []\n",
    "            for word in tokenized_sms:\n",
    "                if word not in set(stopwords.words('english')):\n",
    "                    sms_processed.append(word)\n",
    "            sms_text = \" \".join(sms_processed)\n",
    "            data.append(sms_text)\n",
    "    from sklearn.feature_extraction.text import CountVectorizer\n",
    "    matrix = CountVectorizer(max_features=1000)\n",
    "    X = matrix.fit_transform(data).toarray()\n",
    "    y = dataset.iloc[:, 0]\n",
    "    return X, y, data"
   ]
  },
  {
   "cell_type": "code",
   "execution_count": 39,
   "id": "c9899700-4ce8-48c4-a373-c9f239c07af9",
   "metadata": {
    "tags": []
   },
   "outputs": [],
   "source": [
    "X_train, y_train, d = dataset_prepare(train_dataset)\n",
    "X_test, y_test, _ = dataset_prepare(test_dataset, d)"
   ]
  },
  {
   "cell_type": "code",
   "execution_count": 40,
   "id": "7f727507-50a0-4a80-8d82-35c46f8bb69c",
   "metadata": {
    "tags": []
   },
   "outputs": [
    {
     "data": {
      "text/plain": [
       "array([[0, 0, 0, ..., 0, 1, 0],\n",
       "       [0, 0, 0, ..., 0, 1, 0],\n",
       "       [0, 0, 0, ..., 0, 0, 1],\n",
       "       ...,\n",
       "       [0, 0, 0, ..., 0, 0, 1],\n",
       "       [0, 0, 0, ..., 0, 2, 1],\n",
       "       [0, 0, 2, ..., 0, 1, 1]])"
      ]
     },
     "execution_count": 40,
     "metadata": {},
     "output_type": "execute_result"
    }
   ],
   "source": [
    "X_train"
   ]
  },
  {
   "cell_type": "code",
   "execution_count": 41,
   "id": "3512ad2c-a774-447b-98a1-58513eb4268f",
   "metadata": {
    "tags": []
   },
   "outputs": [
    {
     "data": {
      "text/plain": [
       "((100, 1000), (100,), (100, 1000), (100,))"
      ]
     },
     "execution_count": 41,
     "metadata": {},
     "output_type": "execute_result"
    }
   ],
   "source": [
    "X_train.shape, y_train.shape, X_test.shape, y_test.shape"
   ]
  },
  {
   "cell_type": "code",
   "execution_count": 19,
   "id": "017087ca-011f-4f29-8f2f-067f83e15773",
   "metadata": {
    "tags": []
   },
   "outputs": [
    {
     "data": {
      "text/html": [
       "<div>\n",
       "<style scoped>\n",
       "    .dataframe tbody tr th:only-of-type {\n",
       "        vertical-align: middle;\n",
       "    }\n",
       "\n",
       "    .dataframe tbody tr th {\n",
       "        vertical-align: top;\n",
       "    }\n",
       "\n",
       "    .dataframe thead th {\n",
       "        text-align: right;\n",
       "    }\n",
       "</style>\n",
       "<table border=\"1\" class=\"dataframe\">\n",
       "  <thead>\n",
       "    <tr style=\"text-align: right;\">\n",
       "      <th></th>\n",
       "      <th>label</th>\n",
       "      <th>text</th>\n",
       "    </tr>\n",
       "  </thead>\n",
       "  <tbody>\n",
       "    <tr>\n",
       "      <th>0</th>\n",
       "      <td>1</td>\n",
       "      <td>Comparing measurement properties of EQ-5D-Y-3L...</td>\n",
       "    </tr>\n",
       "    <tr>\n",
       "      <th>1</th>\n",
       "      <td>0</td>\n",
       "      <td>Feasibility of the EQ-5D in the elderly popula...</td>\n",
       "    </tr>\n",
       "    <tr>\n",
       "      <th>2</th>\n",
       "      <td>1</td>\n",
       "      <td>Comparing the self-reported health-related qua...</td>\n",
       "    </tr>\n",
       "    <tr>\n",
       "      <th>3</th>\n",
       "      <td>1</td>\n",
       "      <td>Testing measurement properties of two EQ-5D yo...</td>\n",
       "    </tr>\n",
       "    <tr>\n",
       "      <th>4</th>\n",
       "      <td>1</td>\n",
       "      <td>Use of Antimalarial Agents is Associated with ...</td>\n",
       "    </tr>\n",
       "    <tr>\n",
       "      <th>...</th>\n",
       "      <td>...</td>\n",
       "      <td>...</td>\n",
       "    </tr>\n",
       "    <tr>\n",
       "      <th>95</th>\n",
       "      <td>0</td>\n",
       "      <td>[Raloxifene in clinical practice. Results of t...</td>\n",
       "    </tr>\n",
       "    <tr>\n",
       "      <th>96</th>\n",
       "      <td>1</td>\n",
       "      <td>Impact of apathy on health-related quality of ...</td>\n",
       "    </tr>\n",
       "    <tr>\n",
       "      <th>97</th>\n",
       "      <td>0</td>\n",
       "      <td>Measuring health-related quality of life by ex...</td>\n",
       "    </tr>\n",
       "    <tr>\n",
       "      <th>98</th>\n",
       "      <td>0</td>\n",
       "      <td>Efficacy of labral repair, biceps tenodesis, a...</td>\n",
       "    </tr>\n",
       "    <tr>\n",
       "      <th>99</th>\n",
       "      <td>0</td>\n",
       "      <td>[Association between arthritis, functional dis...</td>\n",
       "    </tr>\n",
       "  </tbody>\n",
       "</table>\n",
       "<p>100 rows × 2 columns</p>\n",
       "</div>"
      ],
      "text/plain": [
       "    label                                               text\n",
       "0       1  Comparing measurement properties of EQ-5D-Y-3L...\n",
       "1       0  Feasibility of the EQ-5D in the elderly popula...\n",
       "2       1  Comparing the self-reported health-related qua...\n",
       "3       1  Testing measurement properties of two EQ-5D yo...\n",
       "4       1  Use of Antimalarial Agents is Associated with ...\n",
       "..    ...                                                ...\n",
       "95      0  [Raloxifene in clinical practice. Results of t...\n",
       "96      1  Impact of apathy on health-related quality of ...\n",
       "97      0  Measuring health-related quality of life by ex...\n",
       "98      0  Efficacy of labral repair, biceps tenodesis, a...\n",
       "99      0  [Association between arthritis, functional dis...\n",
       "\n",
       "[100 rows x 2 columns]"
      ]
     },
     "execution_count": 19,
     "metadata": {},
     "output_type": "execute_result"
    }
   ],
   "source": [
    "train_dataset"
   ]
  },
  {
   "cell_type": "code",
   "execution_count": 42,
   "id": "a43c51f1-8e40-4f70-8a96-dd0da40a1a06",
   "metadata": {
    "tags": []
   },
   "outputs": [],
   "source": [
    "#d"
   ]
  },
  {
   "cell_type": "code",
   "execution_count": 43,
   "id": "24b72896-b1c3-4639-8885-b84a9fe15b1d",
   "metadata": {
    "tags": []
   },
   "outputs": [
    {
     "data": {
      "text/plain": [
       "GaussianNB()"
      ]
     },
     "execution_count": 43,
     "metadata": {},
     "output_type": "execute_result"
    }
   ],
   "source": [
    "from sklearn.naive_bayes import GaussianNB\n",
    "classifier = GaussianNB()\n",
    "classifier.fit(X_train, y_train)"
   ]
  },
  {
   "cell_type": "code",
   "execution_count": 44,
   "id": "4901334a-6e08-4090-9300-2d64be52111d",
   "metadata": {
    "tags": []
   },
   "outputs": [],
   "source": [
    "# predict class\n",
    "y_pred = classifier.predict(X_test)\n",
    "\n",
    "# Confusion matrix\n",
    "from sklearn.metrics import confusion_matrix, classification_report, accuracy_score\n",
    "cm = confusion_matrix(y_test, y_pred)\n",
    "cr = classification_report(y_test, y_pred)\n",
    "\n",
    "accuracy = accuracy_score(y_test, y_pred)"
   ]
  },
  {
   "cell_type": "code",
   "execution_count": 45,
   "id": "43137e39-1d2b-4e40-8465-6ba13dcd74c8",
   "metadata": {
    "tags": []
   },
   "outputs": [
    {
     "data": {
      "text/plain": [
       "array([[16, 24],\n",
       "       [24, 36]])"
      ]
     },
     "execution_count": 45,
     "metadata": {},
     "output_type": "execute_result"
    }
   ],
   "source": [
    "cm"
   ]
  },
  {
   "cell_type": "code",
   "execution_count": 46,
   "id": "4c4c1bbe-b10f-4a5a-b3e6-8bf4931e8593",
   "metadata": {
    "tags": []
   },
   "outputs": [
    {
     "name": "stdout",
     "output_type": "stream",
     "text": [
      "              precision    recall  f1-score   support\n",
      "\n",
      "           0       0.40      0.40      0.40        40\n",
      "           1       0.60      0.60      0.60        60\n",
      "\n",
      "    accuracy                           0.52       100\n",
      "   macro avg       0.50      0.50      0.50       100\n",
      "weighted avg       0.52      0.52      0.52       100\n",
      "\n"
     ]
    }
   ],
   "source": [
    "print(cr)"
   ]
  },
  {
   "cell_type": "code",
   "execution_count": 47,
   "id": "da897b9d-d2f7-4f84-8e18-214c3d7bf19b",
   "metadata": {
    "tags": []
   },
   "outputs": [
    {
     "data": {
      "text/plain": [
       "0.52"
      ]
     },
     "execution_count": 47,
     "metadata": {},
     "output_type": "execute_result"
    }
   ],
   "source": [
    "accuracy"
   ]
  },
  {
   "cell_type": "code",
   "execution_count": 48,
   "id": "2218008e-baaa-4ad2-bf31-57786a126905",
   "metadata": {
    "tags": []
   },
   "outputs": [],
   "source": [
    "from sklearn.metrics import precision_score, f1_score, recall_score\n",
    "weightedF1 = f1_score(y_test, y_pred, average = 'weighted')\n",
    "weightedRecall = recall_score(y_test, y_pred, average='weighted')\n",
    "weightedPrecision = precision_score(y_test, y_pred, average='weighted')"
   ]
  },
  {
   "cell_type": "code",
   "execution_count": 49,
   "id": "ab9e9216-f4a7-4853-b056-00453824d07f",
   "metadata": {
    "tags": []
   },
   "outputs": [
    {
     "data": {
      "text/plain": [
       "(0.52, 0.52, 0.52)"
      ]
     },
     "execution_count": 49,
     "metadata": {},
     "output_type": "execute_result"
    }
   ],
   "source": [
    "weightedPrecision, weightedRecall, weightedF1"
   ]
  },
  {
   "cell_type": "code",
   "execution_count": 50,
   "id": "831f5c01-2022-4fc0-bd40-478aa9b07a2d",
   "metadata": {
    "tags": []
   },
   "outputs": [
    {
     "name": "stdout",
     "output_type": "stream",
     "text": [
      "              precision    recall  f1-score   support\n",
      "\n",
      "           0       0.97      1.00      0.99        39\n",
      "           1       1.00      0.98      0.99        61\n",
      "\n",
      "    accuracy                           0.99       100\n",
      "   macro avg       0.99      0.99      0.99       100\n",
      "weighted avg       0.99      0.99      0.99       100\n",
      "\n"
     ]
    }
   ],
   "source": [
    "y_pred = classifier.predict(X_train)\n",
    "print(classification_report(y_train, y_pred))"
   ]
  },
  {
   "cell_type": "code",
   "execution_count": null,
   "id": "6d94f9d1-a486-491b-bf1d-2f3f12ce57fd",
   "metadata": {},
   "outputs": [],
   "source": []
  }
 ],
 "metadata": {
  "kernelspec": {
   "display_name": "Python 3 (ipykernel)",
   "language": "python",
   "name": "python3"
  },
  "language_info": {
   "codemirror_mode": {
    "name": "ipython",
    "version": 3
   },
   "file_extension": ".py",
   "mimetype": "text/x-python",
   "name": "python",
   "nbconvert_exporter": "python",
   "pygments_lexer": "ipython3",
   "version": "3.7.13"
  }
 },
 "nbformat": 4,
 "nbformat_minor": 5
}
