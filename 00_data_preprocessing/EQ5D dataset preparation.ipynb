{
 "cells": [
  {
   "cell_type": "code",
   "execution_count": 31,
   "id": "36862022-c869-49ea-aebe-b761e2fbd39a",
   "metadata": {
    "tags": []
   },
   "outputs": [],
   "source": [
    "import pandas as pd"
   ]
  },
  {
   "cell_type": "code",
   "execution_count": 32,
   "id": "9f90315e-08d5-46bd-8fcd-61de5a557ef2",
   "metadata": {
    "tags": []
   },
   "outputs": [],
   "source": [
    "df = pd.read_csv(\"EQ_automation_2023_05_15.tsv\", sep=\"\\t\")"
   ]
  },
  {
   "cell_type": "code",
   "execution_count": 33,
   "id": "85b74c66-c854-4871-b7d3-57e5db607f91",
   "metadata": {
    "tags": []
   },
   "outputs": [],
   "source": [
    "# config\n",
    "subset = 'test'\n",
    "fv = 2"
   ]
  },
  {
   "cell_type": "code",
   "execution_count": 34,
   "id": "0ecb05b2-12f5-4bcc-b21d-545ea5ffdbac",
   "metadata": {
    "tags": []
   },
   "outputs": [
    {
     "data": {
      "text/html": [
       "<div>\n",
       "<style scoped>\n",
       "    .dataframe tbody tr th:only-of-type {\n",
       "        vertical-align: middle;\n",
       "    }\n",
       "\n",
       "    .dataframe tbody tr th {\n",
       "        vertical-align: top;\n",
       "    }\n",
       "\n",
       "    .dataframe thead th {\n",
       "        text-align: right;\n",
       "    }\n",
       "</style>\n",
       "<table border=\"1\" class=\"dataframe\">\n",
       "  <thead>\n",
       "    <tr style=\"text-align: right;\">\n",
       "      <th></th>\n",
       "      <th>N</th>\n",
       "      <th>Title</th>\n",
       "      <th>Keywords</th>\n",
       "      <th>Abstract</th>\n",
       "      <th>filter</th>\n",
       "      <th>rev12</th>\n",
       "    </tr>\n",
       "  </thead>\n",
       "  <tbody>\n",
       "    <tr>\n",
       "      <th>0</th>\n",
       "      <td>1</td>\n",
       "      <td>The EQ-5D and the EuroQol Group</td>\n",
       "      <td>Cooperative Behavior; Cost-Benefit Analysis; E...</td>\n",
       "      <td>na</td>\n",
       "      <td>0</td>\n",
       "      <td>NaN</td>\n",
       "    </tr>\n",
       "    <tr>\n",
       "      <th>1</th>\n",
       "      <td>2</td>\n",
       "      <td>EQ-5D and the EuroQol Group: Past, Present and...</td>\n",
       "      <td>Delivery of Health Care/organization &amp; adminis...</td>\n",
       "      <td>Over the period 1987-1991 an inter-disciplinar...</td>\n",
       "      <td>0</td>\n",
       "      <td>NaN</td>\n",
       "    </tr>\n",
       "    <tr>\n",
       "      <th>2</th>\n",
       "      <td>3</td>\n",
       "      <td>Responsiveness of the EuroQoL 5-Dimension (EQ-...</td>\n",
       "      <td>Humans; Prospective Studies; Quality of Life; ...</td>\n",
       "      <td>BACKGROUND: Spondyloarthritis (SpA) has a sign...</td>\n",
       "      <td>0</td>\n",
       "      <td>NaN</td>\n",
       "    </tr>\n",
       "    <tr>\n",
       "      <th>3</th>\n",
       "      <td>4</td>\n",
       "      <td>Dutch Tariff for the Five-Level Version of EQ-5D</td>\n",
       "      <td>Adolescent; Adult; Aged; Aged, 80 and over; Al...</td>\n",
       "      <td>BACKGROUND: In 2009, a new version of the Euro...</td>\n",
       "      <td>0</td>\n",
       "      <td>NaN</td>\n",
       "    </tr>\n",
       "    <tr>\n",
       "      <th>4</th>\n",
       "      <td>5</td>\n",
       "      <td>Clinimetrics: The EuroQol-5 Dimension (EQ-5D)</td>\n",
       "      <td>Humans; Patient Outcome Assessment; Psychometr...</td>\n",
       "      <td>na</td>\n",
       "      <td>0</td>\n",
       "      <td>NaN</td>\n",
       "    </tr>\n",
       "  </tbody>\n",
       "</table>\n",
       "</div>"
      ],
      "text/plain": [
       "   N                                              Title  \\\n",
       "0  1                    The EQ-5D and the EuroQol Group   \n",
       "1  2  EQ-5D and the EuroQol Group: Past, Present and...   \n",
       "2  3  Responsiveness of the EuroQoL 5-Dimension (EQ-...   \n",
       "3  4   Dutch Tariff for the Five-Level Version of EQ-5D   \n",
       "4  5      Clinimetrics: The EuroQol-5 Dimension (EQ-5D)   \n",
       "\n",
       "                                            Keywords  \\\n",
       "0  Cooperative Behavior; Cost-Benefit Analysis; E...   \n",
       "1  Delivery of Health Care/organization & adminis...   \n",
       "2  Humans; Prospective Studies; Quality of Life; ...   \n",
       "3  Adolescent; Adult; Aged; Aged, 80 and over; Al...   \n",
       "4  Humans; Patient Outcome Assessment; Psychometr...   \n",
       "\n",
       "                                            Abstract  filter  rev12  \n",
       "0                                                 na       0    NaN  \n",
       "1  Over the period 1987-1991 an inter-disciplinar...       0    NaN  \n",
       "2  BACKGROUND: Spondyloarthritis (SpA) has a sign...       0    NaN  \n",
       "3  BACKGROUND: In 2009, a new version of the Euro...       0    NaN  \n",
       "4                                                 na       0    NaN  "
      ]
     },
     "execution_count": 34,
     "metadata": {},
     "output_type": "execute_result"
    }
   ],
   "source": [
    "df.head()"
   ]
  },
  {
   "cell_type": "code",
   "execution_count": 35,
   "id": "b5225e81-4b96-4603-84c0-9398852816ec",
   "metadata": {
    "tags": []
   },
   "outputs": [
    {
     "data": {
      "text/html": [
       "<div>\n",
       "<style scoped>\n",
       "    .dataframe tbody tr th:only-of-type {\n",
       "        vertical-align: middle;\n",
       "    }\n",
       "\n",
       "    .dataframe tbody tr th {\n",
       "        vertical-align: top;\n",
       "    }\n",
       "\n",
       "    .dataframe thead th {\n",
       "        text-align: right;\n",
       "    }\n",
       "</style>\n",
       "<table border=\"1\" class=\"dataframe\">\n",
       "  <thead>\n",
       "    <tr style=\"text-align: right;\">\n",
       "      <th></th>\n",
       "      <th>N</th>\n",
       "      <th>Title</th>\n",
       "      <th>Keywords</th>\n",
       "      <th>Abstract</th>\n",
       "      <th>filter</th>\n",
       "      <th>rev12</th>\n",
       "    </tr>\n",
       "  </thead>\n",
       "  <tbody>\n",
       "    <tr>\n",
       "      <th>32</th>\n",
       "      <td>33</td>\n",
       "      <td>Measuring health-related quality of life in wo...</td>\n",
       "      <td>Adolescent; Adult; Anxiety/diagnosis/etiology/...</td>\n",
       "      <td>STUDY QUESTION: Which of the Endometriosis Hea...</td>\n",
       "      <td>2</td>\n",
       "      <td>1.0</td>\n",
       "    </tr>\n",
       "    <tr>\n",
       "      <th>113</th>\n",
       "      <td>114</td>\n",
       "      <td>Adding a fatigue item to the EQ-5D-5L improves...</td>\n",
       "      <td>Bolt-on; EQ-5D; Fatigue; General population; H...</td>\n",
       "      <td>BACKGROUND: Fatigue is a common and often dist...</td>\n",
       "      <td>2</td>\n",
       "      <td>1.0</td>\n",
       "    </tr>\n",
       "    <tr>\n",
       "      <th>293</th>\n",
       "      <td>294</td>\n",
       "      <td>The number of patients \"worse than death\" whil...</td>\n",
       "      <td>Adult; Aged; Aged, 80 and over; Arthroplasty, ...</td>\n",
       "      <td>AIMS: The aim of this study was to assess the ...</td>\n",
       "      <td>2</td>\n",
       "      <td>1.0</td>\n",
       "    </tr>\n",
       "    <tr>\n",
       "      <th>339</th>\n",
       "      <td>340</td>\n",
       "      <td>Direct and Indirect Pathways for Health-Relate...</td>\n",
       "      <td>EuroQoL 5 Dimensions; function; neuropathic pa...</td>\n",
       "      <td>BACKGROUND: Chronic low back pain or chronic c...</td>\n",
       "      <td>2</td>\n",
       "      <td>0.0</td>\n",
       "    </tr>\n",
       "    <tr>\n",
       "      <th>526</th>\n",
       "      <td>527</td>\n",
       "      <td>Estimation of Health Utilities Based on the Re...</td>\n",
       "      <td>Adult; Dermatitis, Atopic/therapy; Female; Hea...</td>\n",
       "      <td>PURPOSE: This study estimated utility weights ...</td>\n",
       "      <td>2</td>\n",
       "      <td>1.0</td>\n",
       "    </tr>\n",
       "  </tbody>\n",
       "</table>\n",
       "</div>"
      ],
      "text/plain": [
       "       N                                              Title  \\\n",
       "32    33  Measuring health-related quality of life in wo...   \n",
       "113  114  Adding a fatigue item to the EQ-5D-5L improves...   \n",
       "293  294  The number of patients \"worse than death\" whil...   \n",
       "339  340  Direct and Indirect Pathways for Health-Relate...   \n",
       "526  527  Estimation of Health Utilities Based on the Re...   \n",
       "\n",
       "                                              Keywords  \\\n",
       "32   Adolescent; Adult; Anxiety/diagnosis/etiology/...   \n",
       "113  Bolt-on; EQ-5D; Fatigue; General population; H...   \n",
       "293  Adult; Aged; Aged, 80 and over; Arthroplasty, ...   \n",
       "339  EuroQoL 5 Dimensions; function; neuropathic pa...   \n",
       "526  Adult; Dermatitis, Atopic/therapy; Female; Hea...   \n",
       "\n",
       "                                              Abstract  filter  rev12  \n",
       "32   STUDY QUESTION: Which of the Endometriosis Hea...       2    1.0  \n",
       "113  BACKGROUND: Fatigue is a common and often dist...       2    1.0  \n",
       "293  AIMS: The aim of this study was to assess the ...       2    1.0  \n",
       "339  BACKGROUND: Chronic low back pain or chronic c...       2    0.0  \n",
       "526  PURPOSE: This study estimated utility weights ...       2    1.0  "
      ]
     },
     "execution_count": 35,
     "metadata": {},
     "output_type": "execute_result"
    }
   ],
   "source": [
    "df[df['filter']==fv].head()"
   ]
  },
  {
   "cell_type": "code",
   "execution_count": 36,
   "id": "acfbee7e-a30b-42f6-a1f8-972dcc167494",
   "metadata": {
    "tags": []
   },
   "outputs": [],
   "source": [
    "df = df[df['filter']==fv]"
   ]
  },
  {
   "cell_type": "code",
   "execution_count": 37,
   "id": "5442daaf-86ba-41db-9480-9c66a975f59f",
   "metadata": {},
   "outputs": [],
   "source": [
    "df = df.reset_index().drop('index', axis=1)"
   ]
  },
  {
   "cell_type": "code",
   "execution_count": 38,
   "id": "c790968e-405d-4fa1-9963-ffe736c3863c",
   "metadata": {
    "tags": []
   },
   "outputs": [],
   "source": [
    "df.drop(['N', 'filter'], axis=1, inplace=True)"
   ]
  },
  {
   "cell_type": "code",
   "execution_count": 39,
   "id": "7f6cae6b-9551-4709-aa69-6e19c6bfafb5",
   "metadata": {
    "tags": []
   },
   "outputs": [
    {
     "data": {
      "text/html": [
       "<div>\n",
       "<style scoped>\n",
       "    .dataframe tbody tr th:only-of-type {\n",
       "        vertical-align: middle;\n",
       "    }\n",
       "\n",
       "    .dataframe tbody tr th {\n",
       "        vertical-align: top;\n",
       "    }\n",
       "\n",
       "    .dataframe thead th {\n",
       "        text-align: right;\n",
       "    }\n",
       "</style>\n",
       "<table border=\"1\" class=\"dataframe\">\n",
       "  <thead>\n",
       "    <tr style=\"text-align: right;\">\n",
       "      <th></th>\n",
       "      <th>Title</th>\n",
       "      <th>Keywords</th>\n",
       "      <th>Abstract</th>\n",
       "      <th>rev12</th>\n",
       "    </tr>\n",
       "  </thead>\n",
       "  <tbody>\n",
       "    <tr>\n",
       "      <th>0</th>\n",
       "      <td>Measuring health-related quality of life in wo...</td>\n",
       "      <td>Adolescent; Adult; Anxiety/diagnosis/etiology/...</td>\n",
       "      <td>STUDY QUESTION: Which of the Endometriosis Hea...</td>\n",
       "      <td>1.0</td>\n",
       "    </tr>\n",
       "    <tr>\n",
       "      <th>1</th>\n",
       "      <td>Adding a fatigue item to the EQ-5D-5L improves...</td>\n",
       "      <td>Bolt-on; EQ-5D; Fatigue; General population; H...</td>\n",
       "      <td>BACKGROUND: Fatigue is a common and often dist...</td>\n",
       "      <td>1.0</td>\n",
       "    </tr>\n",
       "    <tr>\n",
       "      <th>2</th>\n",
       "      <td>The number of patients \"worse than death\" whil...</td>\n",
       "      <td>Adult; Aged; Aged, 80 and over; Arthroplasty, ...</td>\n",
       "      <td>AIMS: The aim of this study was to assess the ...</td>\n",
       "      <td>1.0</td>\n",
       "    </tr>\n",
       "    <tr>\n",
       "      <th>3</th>\n",
       "      <td>Direct and Indirect Pathways for Health-Relate...</td>\n",
       "      <td>EuroQoL 5 Dimensions; function; neuropathic pa...</td>\n",
       "      <td>BACKGROUND: Chronic low back pain or chronic c...</td>\n",
       "      <td>0.0</td>\n",
       "    </tr>\n",
       "    <tr>\n",
       "      <th>4</th>\n",
       "      <td>Estimation of Health Utilities Based on the Re...</td>\n",
       "      <td>Adult; Dermatitis, Atopic/therapy; Female; Hea...</td>\n",
       "      <td>PURPOSE: This study estimated utility weights ...</td>\n",
       "      <td>1.0</td>\n",
       "    </tr>\n",
       "  </tbody>\n",
       "</table>\n",
       "</div>"
      ],
      "text/plain": [
       "                                               Title  \\\n",
       "0  Measuring health-related quality of life in wo...   \n",
       "1  Adding a fatigue item to the EQ-5D-5L improves...   \n",
       "2  The number of patients \"worse than death\" whil...   \n",
       "3  Direct and Indirect Pathways for Health-Relate...   \n",
       "4  Estimation of Health Utilities Based on the Re...   \n",
       "\n",
       "                                            Keywords  \\\n",
       "0  Adolescent; Adult; Anxiety/diagnosis/etiology/...   \n",
       "1  Bolt-on; EQ-5D; Fatigue; General population; H...   \n",
       "2  Adult; Aged; Aged, 80 and over; Arthroplasty, ...   \n",
       "3  EuroQoL 5 Dimensions; function; neuropathic pa...   \n",
       "4  Adult; Dermatitis, Atopic/therapy; Female; Hea...   \n",
       "\n",
       "                                            Abstract  rev12  \n",
       "0  STUDY QUESTION: Which of the Endometriosis Hea...    1.0  \n",
       "1  BACKGROUND: Fatigue is a common and often dist...    1.0  \n",
       "2  AIMS: The aim of this study was to assess the ...    1.0  \n",
       "3  BACKGROUND: Chronic low back pain or chronic c...    0.0  \n",
       "4  PURPOSE: This study estimated utility weights ...    1.0  "
      ]
     },
     "execution_count": 39,
     "metadata": {},
     "output_type": "execute_result"
    }
   ],
   "source": [
    "df.head()"
   ]
  },
  {
   "cell_type": "code",
   "execution_count": 40,
   "id": "dee6d654-68bc-4832-83de-723e31031426",
   "metadata": {
    "tags": []
   },
   "outputs": [
    {
     "data": {
      "text/plain": [
       "Title        object\n",
       "Keywords     object\n",
       "Abstract     object\n",
       "rev12       float64\n",
       "dtype: object"
      ]
     },
     "execution_count": 40,
     "metadata": {},
     "output_type": "execute_result"
    }
   ],
   "source": [
    "df.dtypes"
   ]
  },
  {
   "cell_type": "code",
   "execution_count": 41,
   "id": "b367db48-b8d0-4a30-a1cf-eceab121fbc0",
   "metadata": {
    "tags": []
   },
   "outputs": [],
   "source": [
    "df['label'] = df['rev12'].astype(int)\n",
    "df = df.drop(['rev12'], axis=1)"
   ]
  },
  {
   "cell_type": "markdown",
   "id": "5ed1739c-a9ae-4bfa-b639-1c5839774cd8",
   "metadata": {},
   "source": [
    "### title"
   ]
  },
  {
   "cell_type": "code",
   "execution_count": 42,
   "id": "f7e9a801-5c02-4c77-8c15-4139a4ef45e4",
   "metadata": {
    "tags": []
   },
   "outputs": [],
   "source": [
    "ver = \"{}_title\".format(subset)"
   ]
  },
  {
   "cell_type": "code",
   "execution_count": 43,
   "id": "7f0d9847-2cba-4fcd-b444-d459439980fa",
   "metadata": {
    "tags": []
   },
   "outputs": [],
   "source": [
    "df_ = df\n",
    "df_['text'] = df_['Title']\n",
    "df_ = df_.drop(['Keywords', 'Abstract'], axis=1)\n",
    "df_ = df_[['label', 'text']]"
   ]
  },
  {
   "cell_type": "code",
   "execution_count": 44,
   "id": "b4e26a70-a4b6-47fc-858a-e53bf8e9a838",
   "metadata": {
    "tags": []
   },
   "outputs": [
    {
     "data": {
      "text/html": [
       "<div>\n",
       "<style scoped>\n",
       "    .dataframe tbody tr th:only-of-type {\n",
       "        vertical-align: middle;\n",
       "    }\n",
       "\n",
       "    .dataframe tbody tr th {\n",
       "        vertical-align: top;\n",
       "    }\n",
       "\n",
       "    .dataframe thead th {\n",
       "        text-align: right;\n",
       "    }\n",
       "</style>\n",
       "<table border=\"1\" class=\"dataframe\">\n",
       "  <thead>\n",
       "    <tr style=\"text-align: right;\">\n",
       "      <th></th>\n",
       "      <th>label</th>\n",
       "      <th>text</th>\n",
       "    </tr>\n",
       "  </thead>\n",
       "  <tbody>\n",
       "    <tr>\n",
       "      <th>0</th>\n",
       "      <td>1</td>\n",
       "      <td>Measuring health-related quality of life in wo...</td>\n",
       "    </tr>\n",
       "    <tr>\n",
       "      <th>1</th>\n",
       "      <td>1</td>\n",
       "      <td>Adding a fatigue item to the EQ-5D-5L improves...</td>\n",
       "    </tr>\n",
       "    <tr>\n",
       "      <th>2</th>\n",
       "      <td>1</td>\n",
       "      <td>The number of patients \"worse than death\" whil...</td>\n",
       "    </tr>\n",
       "    <tr>\n",
       "      <th>3</th>\n",
       "      <td>0</td>\n",
       "      <td>Direct and Indirect Pathways for Health-Relate...</td>\n",
       "    </tr>\n",
       "    <tr>\n",
       "      <th>4</th>\n",
       "      <td>1</td>\n",
       "      <td>Estimation of Health Utilities Based on the Re...</td>\n",
       "    </tr>\n",
       "  </tbody>\n",
       "</table>\n",
       "</div>"
      ],
      "text/plain": [
       "   label                                               text\n",
       "0      1  Measuring health-related quality of life in wo...\n",
       "1      1  Adding a fatigue item to the EQ-5D-5L improves...\n",
       "2      1  The number of patients \"worse than death\" whil...\n",
       "3      0  Direct and Indirect Pathways for Health-Relate...\n",
       "4      1  Estimation of Health Utilities Based on the Re..."
      ]
     },
     "execution_count": 44,
     "metadata": {},
     "output_type": "execute_result"
    }
   ],
   "source": [
    "df_.head()"
   ]
  },
  {
   "cell_type": "code",
   "execution_count": 45,
   "id": "d8d92a9c-0a2e-40fd-aaf5-5cd12265e03d",
   "metadata": {
    "tags": []
   },
   "outputs": [],
   "source": [
    "df_.to_csv(\"{0}.txt\".format(ver), sep=\"\\t\", header=None)"
   ]
  },
  {
   "cell_type": "code",
   "execution_count": 46,
   "id": "1f4bfba8-89e6-4b65-b7e6-dcd18f132551",
   "metadata": {
    "tags": []
   },
   "outputs": [],
   "source": [
    "df_.to_pickle(\"{0}.pkl\".format(ver))"
   ]
  },
  {
   "cell_type": "markdown",
   "id": "773a82da-0eda-499d-9480-24258cc9b31e",
   "metadata": {},
   "source": [
    "### abstract"
   ]
  },
  {
   "cell_type": "code",
   "execution_count": 47,
   "id": "52a55b8d-d734-4421-a21c-d4e8028d34e4",
   "metadata": {
    "tags": []
   },
   "outputs": [],
   "source": [
    "ver = \"{}_abstract\".format(subset)"
   ]
  },
  {
   "cell_type": "code",
   "execution_count": 48,
   "id": "1096893f-f248-413f-bcc4-92885983c4c8",
   "metadata": {
    "tags": []
   },
   "outputs": [],
   "source": [
    "df_ = df\n",
    "df_['text'] = df_['Abstract']\n",
    "df_ = df_.drop(['Keywords', 'Title', 'Abstract'], axis=1)\n",
    "df_ = df_[['label', 'text']]"
   ]
  },
  {
   "cell_type": "code",
   "execution_count": 49,
   "id": "e8121ccd-aedf-401f-b015-61b03a2c67b9",
   "metadata": {
    "tags": []
   },
   "outputs": [
    {
     "data": {
      "text/html": [
       "<div>\n",
       "<style scoped>\n",
       "    .dataframe tbody tr th:only-of-type {\n",
       "        vertical-align: middle;\n",
       "    }\n",
       "\n",
       "    .dataframe tbody tr th {\n",
       "        vertical-align: top;\n",
       "    }\n",
       "\n",
       "    .dataframe thead th {\n",
       "        text-align: right;\n",
       "    }\n",
       "</style>\n",
       "<table border=\"1\" class=\"dataframe\">\n",
       "  <thead>\n",
       "    <tr style=\"text-align: right;\">\n",
       "      <th></th>\n",
       "      <th>label</th>\n",
       "      <th>text</th>\n",
       "    </tr>\n",
       "  </thead>\n",
       "  <tbody>\n",
       "    <tr>\n",
       "      <th>0</th>\n",
       "      <td>1</td>\n",
       "      <td>STUDY QUESTION: Which of the Endometriosis Hea...</td>\n",
       "    </tr>\n",
       "    <tr>\n",
       "      <th>1</th>\n",
       "      <td>1</td>\n",
       "      <td>BACKGROUND: Fatigue is a common and often dist...</td>\n",
       "    </tr>\n",
       "    <tr>\n",
       "      <th>2</th>\n",
       "      <td>1</td>\n",
       "      <td>AIMS: The aim of this study was to assess the ...</td>\n",
       "    </tr>\n",
       "    <tr>\n",
       "      <th>3</th>\n",
       "      <td>0</td>\n",
       "      <td>BACKGROUND: Chronic low back pain or chronic c...</td>\n",
       "    </tr>\n",
       "    <tr>\n",
       "      <th>4</th>\n",
       "      <td>1</td>\n",
       "      <td>PURPOSE: This study estimated utility weights ...</td>\n",
       "    </tr>\n",
       "  </tbody>\n",
       "</table>\n",
       "</div>"
      ],
      "text/plain": [
       "   label                                               text\n",
       "0      1  STUDY QUESTION: Which of the Endometriosis Hea...\n",
       "1      1  BACKGROUND: Fatigue is a common and often dist...\n",
       "2      1  AIMS: The aim of this study was to assess the ...\n",
       "3      0  BACKGROUND: Chronic low back pain or chronic c...\n",
       "4      1  PURPOSE: This study estimated utility weights ..."
      ]
     },
     "execution_count": 49,
     "metadata": {},
     "output_type": "execute_result"
    }
   ],
   "source": [
    "df_.head()"
   ]
  },
  {
   "cell_type": "code",
   "execution_count": 50,
   "id": "f6be77dd-4aa9-4808-bdd3-92fc2a8f88ca",
   "metadata": {
    "tags": []
   },
   "outputs": [],
   "source": [
    "df_.to_csv(\"{0}.txt\".format(ver), sep=\"\\t\", header=None)"
   ]
  },
  {
   "cell_type": "code",
   "execution_count": 51,
   "id": "d5354246-74b2-4f2c-8e00-709148a457c2",
   "metadata": {
    "tags": []
   },
   "outputs": [],
   "source": [
    "df_.to_pickle(\"{0}.pkl\".format(ver))"
   ]
  },
  {
   "cell_type": "markdown",
   "id": "968ca4f9-98cb-4bf2-944b-7f6fad8c2cf7",
   "metadata": {},
   "source": [
    "### title & abstract"
   ]
  },
  {
   "cell_type": "code",
   "execution_count": 52,
   "id": "e865dfbb-6583-4911-96f2-957098551471",
   "metadata": {
    "tags": []
   },
   "outputs": [],
   "source": [
    "ver = \"{}_title_abstract\".format(subset)"
   ]
  },
  {
   "cell_type": "code",
   "execution_count": 53,
   "id": "51e50e37-57cd-4cea-a004-fca01982131e",
   "metadata": {
    "tags": []
   },
   "outputs": [],
   "source": [
    "df_ = df\n",
    "df_['text'] = df_['Title'] + \" [SEP] \" + df_['Abstract']\n",
    "df_ = df_.drop(['Keywords', 'Title', 'Abstract'], axis=1)\n",
    "df_ = df_[['label', 'text']]"
   ]
  },
  {
   "cell_type": "code",
   "execution_count": 54,
   "id": "40f67336-54ed-461a-abd4-3f660312a748",
   "metadata": {
    "tags": []
   },
   "outputs": [
    {
     "data": {
      "text/html": [
       "<div>\n",
       "<style scoped>\n",
       "    .dataframe tbody tr th:only-of-type {\n",
       "        vertical-align: middle;\n",
       "    }\n",
       "\n",
       "    .dataframe tbody tr th {\n",
       "        vertical-align: top;\n",
       "    }\n",
       "\n",
       "    .dataframe thead th {\n",
       "        text-align: right;\n",
       "    }\n",
       "</style>\n",
       "<table border=\"1\" class=\"dataframe\">\n",
       "  <thead>\n",
       "    <tr style=\"text-align: right;\">\n",
       "      <th></th>\n",
       "      <th>label</th>\n",
       "      <th>text</th>\n",
       "    </tr>\n",
       "  </thead>\n",
       "  <tbody>\n",
       "    <tr>\n",
       "      <th>0</th>\n",
       "      <td>1</td>\n",
       "      <td>Measuring health-related quality of life in wo...</td>\n",
       "    </tr>\n",
       "    <tr>\n",
       "      <th>1</th>\n",
       "      <td>1</td>\n",
       "      <td>Adding a fatigue item to the EQ-5D-5L improves...</td>\n",
       "    </tr>\n",
       "    <tr>\n",
       "      <th>2</th>\n",
       "      <td>1</td>\n",
       "      <td>The number of patients \"worse than death\" whil...</td>\n",
       "    </tr>\n",
       "    <tr>\n",
       "      <th>3</th>\n",
       "      <td>0</td>\n",
       "      <td>Direct and Indirect Pathways for Health-Relate...</td>\n",
       "    </tr>\n",
       "    <tr>\n",
       "      <th>4</th>\n",
       "      <td>1</td>\n",
       "      <td>Estimation of Health Utilities Based on the Re...</td>\n",
       "    </tr>\n",
       "  </tbody>\n",
       "</table>\n",
       "</div>"
      ],
      "text/plain": [
       "   label                                               text\n",
       "0      1  Measuring health-related quality of life in wo...\n",
       "1      1  Adding a fatigue item to the EQ-5D-5L improves...\n",
       "2      1  The number of patients \"worse than death\" whil...\n",
       "3      0  Direct and Indirect Pathways for Health-Relate...\n",
       "4      1  Estimation of Health Utilities Based on the Re..."
      ]
     },
     "execution_count": 54,
     "metadata": {},
     "output_type": "execute_result"
    }
   ],
   "source": [
    "df_.head()"
   ]
  },
  {
   "cell_type": "code",
   "execution_count": 55,
   "id": "472503bc-f10c-45c1-acb1-ac6b1bfc2731",
   "metadata": {
    "tags": []
   },
   "outputs": [],
   "source": [
    "df_.to_csv(\"{0}.txt\".format(ver), sep=\"\\t\", header=None)"
   ]
  },
  {
   "cell_type": "code",
   "execution_count": 56,
   "id": "20fd9a8b-ac5e-4250-a3c4-1e4bf9835d1a",
   "metadata": {
    "tags": []
   },
   "outputs": [],
   "source": [
    "df_.to_pickle(\"{0}.pkl\".format(ver))"
   ]
  },
  {
   "cell_type": "markdown",
   "id": "b2eaf636-a89c-4027-91a6-bd0c09fa8a2c",
   "metadata": {},
   "source": [
    "### title & abstract & keywords"
   ]
  },
  {
   "cell_type": "code",
   "execution_count": 57,
   "id": "2809b7ad-607d-4927-aae2-f8268286a974",
   "metadata": {
    "tags": []
   },
   "outputs": [],
   "source": [
    "ver = \"{}_title_abstract_keywords\".format(subset)"
   ]
  },
  {
   "cell_type": "code",
   "execution_count": 58,
   "id": "ffa654e4-6c03-4117-9382-0907206fec8c",
   "metadata": {
    "tags": []
   },
   "outputs": [],
   "source": [
    "df_ = df\n",
    "df_['text'] = df_['Title'] + \" [SEP] \" + df_['Abstract'] + \" [SEP] \" + df_['Keywords']\n",
    "df_ = df_.drop(['Keywords', 'Title', 'Abstract'], axis=1)\n",
    "df_ = df_[['label', 'text']]"
   ]
  },
  {
   "cell_type": "code",
   "execution_count": 59,
   "id": "6ba22939-07d3-423d-b2fe-8de35507db88",
   "metadata": {
    "tags": []
   },
   "outputs": [
    {
     "data": {
      "text/html": [
       "<div>\n",
       "<style scoped>\n",
       "    .dataframe tbody tr th:only-of-type {\n",
       "        vertical-align: middle;\n",
       "    }\n",
       "\n",
       "    .dataframe tbody tr th {\n",
       "        vertical-align: top;\n",
       "    }\n",
       "\n",
       "    .dataframe thead th {\n",
       "        text-align: right;\n",
       "    }\n",
       "</style>\n",
       "<table border=\"1\" class=\"dataframe\">\n",
       "  <thead>\n",
       "    <tr style=\"text-align: right;\">\n",
       "      <th></th>\n",
       "      <th>label</th>\n",
       "      <th>text</th>\n",
       "    </tr>\n",
       "  </thead>\n",
       "  <tbody>\n",
       "    <tr>\n",
       "      <th>0</th>\n",
       "      <td>1</td>\n",
       "      <td>Measuring health-related quality of life in wo...</td>\n",
       "    </tr>\n",
       "    <tr>\n",
       "      <th>1</th>\n",
       "      <td>1</td>\n",
       "      <td>Adding a fatigue item to the EQ-5D-5L improves...</td>\n",
       "    </tr>\n",
       "    <tr>\n",
       "      <th>2</th>\n",
       "      <td>1</td>\n",
       "      <td>The number of patients \"worse than death\" whil...</td>\n",
       "    </tr>\n",
       "    <tr>\n",
       "      <th>3</th>\n",
       "      <td>0</td>\n",
       "      <td>Direct and Indirect Pathways for Health-Relate...</td>\n",
       "    </tr>\n",
       "    <tr>\n",
       "      <th>4</th>\n",
       "      <td>1</td>\n",
       "      <td>Estimation of Health Utilities Based on the Re...</td>\n",
       "    </tr>\n",
       "  </tbody>\n",
       "</table>\n",
       "</div>"
      ],
      "text/plain": [
       "   label                                               text\n",
       "0      1  Measuring health-related quality of life in wo...\n",
       "1      1  Adding a fatigue item to the EQ-5D-5L improves...\n",
       "2      1  The number of patients \"worse than death\" whil...\n",
       "3      0  Direct and Indirect Pathways for Health-Relate...\n",
       "4      1  Estimation of Health Utilities Based on the Re..."
      ]
     },
     "execution_count": 59,
     "metadata": {},
     "output_type": "execute_result"
    }
   ],
   "source": [
    "df_.head()"
   ]
  },
  {
   "cell_type": "code",
   "execution_count": 60,
   "id": "2584b83e-54c3-40d2-87c8-c8cb3f9d1a0e",
   "metadata": {
    "tags": []
   },
   "outputs": [],
   "source": [
    "df_.to_csv(\"{0}.txt\".format(ver), sep=\"\\t\", header=None)"
   ]
  },
  {
   "cell_type": "code",
   "execution_count": 61,
   "id": "6cc4d349-c301-46be-a6c4-6c7537df2996",
   "metadata": {
    "tags": []
   },
   "outputs": [],
   "source": [
    "df_.to_pickle(\"{0}.pkl\".format(ver))"
   ]
  }
 ],
 "metadata": {
  "kernelspec": {
   "display_name": "Python 3 (ipykernel)",
   "language": "python",
   "name": "python3"
  },
  "language_info": {
   "codemirror_mode": {
    "name": "ipython",
    "version": 3
   },
   "file_extension": ".py",
   "mimetype": "text/x-python",
   "name": "python",
   "nbconvert_exporter": "python",
   "pygments_lexer": "ipython3",
   "version": "3.7.13"
  }
 },
 "nbformat": 4,
 "nbformat_minor": 5
}
