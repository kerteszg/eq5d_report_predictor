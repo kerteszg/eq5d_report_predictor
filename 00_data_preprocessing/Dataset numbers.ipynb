{
 "cells": [
  {
   "cell_type": "code",
   "execution_count": 1,
   "id": "aa66def8-9467-4184-a021-17e9cd655022",
   "metadata": {
    "tags": []
   },
   "outputs": [],
   "source": [
    "import pandas as pd"
   ]
  },
  {
   "cell_type": "code",
   "execution_count": 5,
   "id": "123e8d68-a04e-45f9-8e68-c386fcbbf137",
   "metadata": {
    "tags": []
   },
   "outputs": [],
   "source": [
    "df = pd.read_csv(\"EQ_automation_2023_05_15.tsv\", sep=\"\\t\")"
   ]
  },
  {
   "cell_type": "code",
   "execution_count": 6,
   "id": "adf42c9c-a2c1-4a0e-b3e0-13a76a88cf7f",
   "metadata": {
    "tags": []
   },
   "outputs": [],
   "source": [
    "df = df[df[\"filter\"]> 0]"
   ]
  },
  {
   "cell_type": "code",
   "execution_count": 12,
   "id": "719b92bc-4306-46f8-8f6f-ab8017137e8b",
   "metadata": {
    "tags": []
   },
   "outputs": [],
   "source": [
    "df.drop(['Title', 'Keywords', 'Abstract'], axis=1, inplace=True)"
   ]
  },
  {
   "cell_type": "code",
   "execution_count": 15,
   "id": "86690851-9ce3-4e26-8f3e-2c525b4879f8",
   "metadata": {
    "tags": []
   },
   "outputs": [
    {
     "data": {
      "text/plain": [
       "N           int64\n",
       "filter      int64\n",
       "rev12     float64\n",
       "dtype: object"
      ]
     },
     "execution_count": 15,
     "metadata": {},
     "output_type": "execute_result"
    }
   ],
   "source": [
    "df.dtypes"
   ]
  },
  {
   "cell_type": "code",
   "execution_count": 13,
   "id": "0612532f-29f5-43b9-af89-4ba3cf50c16c",
   "metadata": {
    "tags": []
   },
   "outputs": [
    {
     "data": {
      "text/html": [
       "<div>\n",
       "<style scoped>\n",
       "    .dataframe tbody tr th:only-of-type {\n",
       "        vertical-align: middle;\n",
       "    }\n",
       "\n",
       "    .dataframe tbody tr th {\n",
       "        vertical-align: top;\n",
       "    }\n",
       "\n",
       "    .dataframe thead th {\n",
       "        text-align: right;\n",
       "    }\n",
       "</style>\n",
       "<table border=\"1\" class=\"dataframe\">\n",
       "  <thead>\n",
       "    <tr style=\"text-align: right;\">\n",
       "      <th></th>\n",
       "      <th>N</th>\n",
       "      <th>filter</th>\n",
       "      <th>rev12</th>\n",
       "    </tr>\n",
       "  </thead>\n",
       "  <tbody>\n",
       "    <tr>\n",
       "      <th>12</th>\n",
       "      <td>13</td>\n",
       "      <td>1</td>\n",
       "      <td>1.0</td>\n",
       "    </tr>\n",
       "    <tr>\n",
       "      <th>32</th>\n",
       "      <td>33</td>\n",
       "      <td>2</td>\n",
       "      <td>1.0</td>\n",
       "    </tr>\n",
       "    <tr>\n",
       "      <th>39</th>\n",
       "      <td>40</td>\n",
       "      <td>1</td>\n",
       "      <td>0.0</td>\n",
       "    </tr>\n",
       "    <tr>\n",
       "      <th>58</th>\n",
       "      <td>59</td>\n",
       "      <td>1</td>\n",
       "      <td>1.0</td>\n",
       "    </tr>\n",
       "    <tr>\n",
       "      <th>84</th>\n",
       "      <td>85</td>\n",
       "      <td>1</td>\n",
       "      <td>1.0</td>\n",
       "    </tr>\n",
       "  </tbody>\n",
       "</table>\n",
       "</div>"
      ],
      "text/plain": [
       "     N  filter  rev12\n",
       "12  13       1    1.0\n",
       "32  33       2    1.0\n",
       "39  40       1    0.0\n",
       "58  59       1    1.0\n",
       "84  85       1    1.0"
      ]
     },
     "execution_count": 13,
     "metadata": {},
     "output_type": "execute_result"
    }
   ],
   "source": [
    "df.head()"
   ]
  },
  {
   "cell_type": "code",
   "execution_count": 16,
   "id": "b6d617c0-cce3-41a6-ae2a-7ed245402131",
   "metadata": {
    "tags": []
   },
   "outputs": [
    {
     "name": "stdout",
     "output_type": "stream",
     "text": [
      "N int64 200\n",
      "[   13    33    40    59    85   114   294   340   377   460   527   591\n",
      "   850  1308  1402  1494  1572  1913  2010  2027  2054  2296  2324  2328\n",
      "  2394  2431  2487  2506  2811  2861  2901  2932  3049  3097  3110  3256\n",
      "  3382  3383  3484  3503  3586  3659  3693  3929  3984  3991  4098  4210\n",
      "  4353  4494  4547  4560  4618  4630  4709  4730  4882  4958  4996  4998\n",
      "  5038  5263  5476  5611  5746  5750  5756  5808  6020  6153  6275  6308\n",
      "  6355  6613  6685  6722  6770  6884  6912  6987  7298  7305  7392  7438\n",
      "  7488  7551  7707  7934  8032  8100  8212  8225  8383  8394  8415  8506\n",
      "  8699  8732  8736  8826  8829  8882  8944  9005  9049  9051  9080  9104\n",
      "  9115  9334  9394  9476  9491  9513  9520  9554  9599  9728  9813  9912\n",
      "  9998 10000 10257 10318 10358 10437 10472 10603 10630 10631 10916 10924\n",
      " 10954 11008 11119 11159 11167 11209 11218 11296 11314 11322 11385 11446\n",
      " 11482 11495 11538 11670 11919 11984 12045 12100 12153 12192 12273 12427\n",
      " 12607 12713 12764 12861 12883 12954 13011 13016 13223 13228 13239 13242\n",
      " 13338 13367 13389 13419 13485 13707 13786 13796 13799 13894 13925 13930\n",
      " 14042 14071 14138 14147 14256 14272 14396 14527 14684 14699 14734 14824\n",
      " 14849 14899 14914 14948 15031 15037 15167 15375] \n",
      "\n",
      "filter int64 2\n",
      "[1 2] \n",
      "\n",
      "rev12 float64 2\n",
      "[1. 0.] \n",
      "\n"
     ]
    }
   ],
   "source": [
    "for k in df.dtypes.keys():\n",
    "    if df.dtypes[k] not in [\"int64\", \"float64\", \"object\"]:\n",
    "        continue\n",
    "    print(k, df.dtypes[k], df[k].nunique())\n",
    "    print(df[k].unique(), \"\\n\")"
   ]
  },
  {
   "cell_type": "code",
   "execution_count": 17,
   "id": "24c9aa86-a1b0-42c1-81d4-17caba226317",
   "metadata": {
    "tags": []
   },
   "outputs": [
    {
     "data": {
      "text/plain": [
       "count    200.000000\n",
       "mean       1.500000\n",
       "std        0.501255\n",
       "min        1.000000\n",
       "25%        1.000000\n",
       "50%        1.500000\n",
       "75%        2.000000\n",
       "max        2.000000\n",
       "Name: filter, dtype: float64"
      ]
     },
     "execution_count": 17,
     "metadata": {},
     "output_type": "execute_result"
    }
   ],
   "source": [
    "df[\"filter\"].describe()"
   ]
  },
  {
   "cell_type": "code",
   "execution_count": 18,
   "id": "e5ec5b11-cd65-455b-864e-744e5a070967",
   "metadata": {
    "tags": []
   },
   "outputs": [
    {
     "data": {
      "text/plain": [
       "count    200.000000\n",
       "mean       0.605000\n",
       "std        0.490077\n",
       "min        0.000000\n",
       "25%        0.000000\n",
       "50%        1.000000\n",
       "75%        1.000000\n",
       "max        1.000000\n",
       "Name: rev12, dtype: float64"
      ]
     },
     "execution_count": 18,
     "metadata": {},
     "output_type": "execute_result"
    }
   ],
   "source": [
    "df[\"rev12\"].describe()"
   ]
  },
  {
   "cell_type": "code",
   "execution_count": 19,
   "id": "eef2a0a7-c81a-4aab-878e-44cd33c19c6b",
   "metadata": {
    "tags": []
   },
   "outputs": [
    {
     "data": {
      "text/plain": [
       "121.0"
      ]
     },
     "execution_count": 19,
     "metadata": {},
     "output_type": "execute_result"
    }
   ],
   "source": [
    "200*0.605"
   ]
  },
  {
   "cell_type": "code",
   "execution_count": 20,
   "id": "38b85e94-7abe-4a30-80a3-30805df11a7a",
   "metadata": {
    "tags": []
   },
   "outputs": [
    {
     "data": {
      "text/plain": [
       "(0.18181818181818182, 0.11)"
      ]
     },
     "execution_count": 20,
     "metadata": {},
     "output_type": "execute_result"
    }
   ],
   "source": [
    "22/121, 22/200"
   ]
  },
  {
   "cell_type": "code",
   "execution_count": null,
   "id": "27432c6f-2361-4c37-9fd1-240e58730804",
   "metadata": {},
   "outputs": [],
   "source": []
  }
 ],
 "metadata": {
  "kernelspec": {
   "display_name": "Python 3 (ipykernel)",
   "language": "python",
   "name": "python3"
  },
  "language_info": {
   "codemirror_mode": {
    "name": "ipython",
    "version": 3
   },
   "file_extension": ".py",
   "mimetype": "text/x-python",
   "name": "python",
   "nbconvert_exporter": "python",
   "pygments_lexer": "ipython3",
   "version": "3.7.13"
  }
 },
 "nbformat": 4,
 "nbformat_minor": 5
}
