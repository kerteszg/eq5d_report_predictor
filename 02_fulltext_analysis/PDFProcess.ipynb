{
 "cells": [
  {
   "cell_type": "markdown",
   "id": "naval-belarus",
   "metadata": {},
   "source": [
    "### pdf process"
   ]
  },
  {
   "cell_type": "code",
   "execution_count": 17,
   "id": "packed-papua",
   "metadata": {
    "tags": []
   },
   "outputs": [],
   "source": [
    "# import packages\n",
    "import PyPDF2\n",
    "import re\n",
    "import pandas as pd \n",
    "import numpy as np"
   ]
  },
  {
   "cell_type": "code",
   "execution_count": 18,
   "id": "tutorial-printer",
   "metadata": {
    "tags": []
   },
   "outputs": [
    {
     "name": "stdout",
     "output_type": "stream",
     "text": [
      "10\n"
     ]
    }
   ],
   "source": [
    "# open the pdf file\n",
    "reader = PyPDF2.PdfReader(\"fulltext/10457737.pdf\")\n",
    "\n",
    "# get number of pages\n",
    "num_pages = len(reader.pages)\n",
    "print(num_pages)"
   ]
  },
  {
   "cell_type": "code",
   "execution_count": 19,
   "id": "fewer-bacon",
   "metadata": {
    "tags": []
   },
   "outputs": [],
   "source": [
    "def DocContains(string, reader):\n",
    "    for page in reader.pages:\n",
    "        text = page.extract_text() \n",
    "        res_search = re.search(string, text)\n",
    "        if res_search is not None:\n",
    "            return True\n",
    "    return False"
   ]
  },
  {
   "cell_type": "code",
   "execution_count": 20,
   "id": "continued-coast",
   "metadata": {
    "tags": []
   },
   "outputs": [
    {
     "data": {
      "text/plain": [
       "True"
      ]
     },
     "execution_count": 20,
     "metadata": {},
     "output_type": "execute_result"
    }
   ],
   "source": [
    "DocContains(\"EQ-5D\", reader)"
   ]
  },
  {
   "cell_type": "markdown",
   "id": "ordered-participation",
   "metadata": {},
   "source": [
    "### read database"
   ]
  },
  {
   "cell_type": "code",
   "execution_count": 21,
   "id": "critical-simon",
   "metadata": {
    "tags": []
   },
   "outputs": [],
   "source": [
    "# import pandas as pd\n",
    "df = pd.read_csv(\"EQ5D_fulltext_PMID.tsv\", sep=\"\\t\")"
   ]
  },
  {
   "cell_type": "code",
   "execution_count": 22,
   "id": "lonely-corner",
   "metadata": {
    "tags": []
   },
   "outputs": [
    {
     "data": {
      "text/html": [
       "<div>\n",
       "<style scoped>\n",
       "    .dataframe tbody tr th:only-of-type {\n",
       "        vertical-align: middle;\n",
       "    }\n",
       "\n",
       "    .dataframe tbody tr th {\n",
       "        vertical-align: top;\n",
       "    }\n",
       "\n",
       "    .dataframe thead th {\n",
       "        text-align: right;\n",
       "    }\n",
       "</style>\n",
       "<table border=\"1\" class=\"dataframe\">\n",
       "  <thead>\n",
       "    <tr style=\"text-align: right;\">\n",
       "      <th></th>\n",
       "      <th>Doi</th>\n",
       "      <th>rev12</th>\n",
       "      <th>filter</th>\n",
       "      <th>filename</th>\n",
       "    </tr>\n",
       "  </thead>\n",
       "  <tbody>\n",
       "    <tr>\n",
       "      <th>0</th>\n",
       "      <td>10.1186/s12955-021-01889-4</td>\n",
       "      <td>FY</td>\n",
       "      <td>1</td>\n",
       "      <td>34781978</td>\n",
       "    </tr>\n",
       "    <tr>\n",
       "      <th>1</th>\n",
       "      <td>10.1093/humrep/dex057</td>\n",
       "      <td>FY</td>\n",
       "      <td>2</td>\n",
       "      <td>28383700</td>\n",
       "    </tr>\n",
       "    <tr>\n",
       "      <th>2</th>\n",
       "      <td>10.1007/s11136-021-03007-9</td>\n",
       "      <td>N</td>\n",
       "      <td>1</td>\n",
       "      <td>34613597</td>\n",
       "    </tr>\n",
       "    <tr>\n",
       "      <th>3</th>\n",
       "      <td>10.1186/s12955-020-01475-0</td>\n",
       "      <td>AY</td>\n",
       "      <td>1</td>\n",
       "      <td>32727498</td>\n",
       "    </tr>\n",
       "    <tr>\n",
       "      <th>4</th>\n",
       "      <td>10.1007/s10198-021-01307-y</td>\n",
       "      <td>FY</td>\n",
       "      <td>1</td>\n",
       "      <td>33893889</td>\n",
       "    </tr>\n",
       "  </tbody>\n",
       "</table>\n",
       "</div>"
      ],
      "text/plain": [
       "                          Doi rev12  filter  filename\n",
       "0  10.1186/s12955-021-01889-4    FY       1  34781978\n",
       "1       10.1093/humrep/dex057    FY       2  28383700\n",
       "2  10.1007/s11136-021-03007-9     N       1  34613597\n",
       "3  10.1186/s12955-020-01475-0    AY       1  32727498\n",
       "4  10.1007/s10198-021-01307-y    FY       1  33893889"
      ]
     },
     "execution_count": 22,
     "metadata": {},
     "output_type": "execute_result"
    }
   ],
   "source": [
    "df.head()"
   ]
  },
  {
   "cell_type": "code",
   "execution_count": 23,
   "id": "danish-arbor",
   "metadata": {
    "tags": []
   },
   "outputs": [],
   "source": [
    "tmp = df[df['filter']==1]\n",
    "train_neg = tmp[tmp['rev12']=='N']['filename'].to_numpy()\n",
    "train_pos = tmp[tmp['rev12']!='N']['filename'].to_numpy()\n",
    "tmp = df[df['filter']==2]\n",
    "test_neg = tmp[tmp['rev12']=='N']['filename'].to_numpy()\n",
    "test_pos = tmp[tmp['rev12']!='N']['filename'].to_numpy()"
   ]
  },
  {
   "cell_type": "code",
   "execution_count": 24,
   "id": "double-pickup",
   "metadata": {
    "tags": []
   },
   "outputs": [
    {
     "data": {
      "text/plain": [
       "(61, 39, 60, 40)"
      ]
     },
     "execution_count": 24,
     "metadata": {},
     "output_type": "execute_result"
    }
   ],
   "source": [
    "len(train_pos), len(train_neg), len(test_pos), len(test_neg)"
   ]
  },
  {
   "cell_type": "code",
   "execution_count": 25,
   "id": "relative-difference",
   "metadata": {
    "tags": []
   },
   "outputs": [],
   "source": [
    "fn = '10457737'\n",
    "def getSubset(fn, df):\n",
    "    tmp = df[df['filename']==fn]\n",
    "    if tmp.shape[0] == 0:\n",
    "        raise Exception(\"not found\", fn)\n",
    "    if tmp.shape[0] > 1:\n",
    "        raise Exception(\"too many\", [fn, tmp.shape[0]])\n",
    "    fv = 'train' if tmp['filter'].to_numpy()[0] == 1 else 'test'\n",
    "    rev = tmp['rev12'].to_numpy()[0] != 'N'\n",
    "    return fv, rev"
   ]
  },
  {
   "cell_type": "code",
   "execution_count": 26,
   "id": "caroline-chair",
   "metadata": {
    "tags": []
   },
   "outputs": [
    {
     "data": {
      "text/plain": [
       "('train', True)"
      ]
     },
     "execution_count": 26,
     "metadata": {},
     "output_type": "execute_result"
    }
   ],
   "source": [
    "getSubset(fn, df)"
   ]
  },
  {
   "cell_type": "markdown",
   "id": "rational-sculpture",
   "metadata": {},
   "source": [
    "### batch process all pdfs in dir"
   ]
  },
  {
   "cell_type": "code",
   "execution_count": null,
   "id": "competent-asian",
   "metadata": {
    "tags": []
   },
   "outputs": [],
   "source": [
    "import os\n",
    "results = {}\n",
    "Hal = 0;\n",
    "idx = 1;\n",
    "i = 0;\n",
    "j = 0;\n",
    "idx_Pdf_Name = 1;\n",
    "list_headrow_1 = [\"accuracy\", \"sensitivity\", \"precision\", \"specificity\"]\n",
    "list_kw_1 = [\"index\", \"value\", \"utility\", \"utilities\", \"score\", \"mobility\", \"self-care\", \"usual activities\", \"pain\", \"discomfort\", \"anxiety\", \"depression\", \"looking after myself\", \"doing usual activities\", \"having pain or discomfort\", \"feeling worried\", \"feeling sad\", \"feeling unhappy\"]\n",
    "list_PDF_Name = []\n",
    "# len (list_kw_1)\n",
    "\n",
    "# Fill the PDF name into list_PDF_Name array\n",
    "list_PDF_Name = {};\n",
    "for fn in os.listdir('fulltext'):\n",
    "    if not fn.endswith(\".pdf\"):\n",
    "        continue\n",
    "    reader = PyPDF2.PdfReader(\"fulltext/\" + fn)\n",
    "    list_PDF_Name[idx_Pdf_Name] = fn[:-4]\n",
    "    idx_Pdf_Name += 1\n",
    "    \n",
    "# print(list_PDF_Name)\n",
    "    \n",
    "print (\" ===============================================================================\")\n",
    "\n",
    "y = len(list_kw_1) + 1 # PDF name in first Column, and 18 parameter value\n",
    "x = idx_Pdf_Name + 1 \n",
    "\n",
    "print (\"x: \" , x, \"   y: \", y , \"\\n\")\n",
    "\n",
    "Matrix = [[0 for x1 in range(x)] for y1 in range(y)]\n",
    "\n",
    "print (\"Matrix row number:\", x , \"Martix column number: \" , y , \"idx_Pdf-Name\" , idx_Pdf_Name , \"\\n\")\n",
    "\n",
    "for i in range(idx_Pdf_Name-1):\n",
    "    # print (\"Sorsz: \" , i+1, \"    \" , list_PDF_Name[i+1], \"     \" , idx_Pdf_Name-1 , \"\\n\")\n",
    "    Matrix[0][i+1] = list_PDF_Name[i+1]\n",
    "\n",
    "    \n",
    "print (np.matrix(Matrix))\n",
    "\n",
    "for j in range(y-1):\n",
    "    # print (\"Sorsz: \" , j, \"    \" , list_kw_1[j], \"     \" , y , \"\\n\")\n",
    "    Matrix[j+1][0] = list_kw_1[j]\n",
    "\n",
    "print (np.matrix(Matrix))\n",
    "\n",
    "\n",
    "# df_results = pd.MultiIndex(levels=[[list_PDF_Name],[list_kw_1]])\n",
    "# df_results =pd. MultiIndex(columns = [list_headrow_1])\n",
    "\n",
    "\n",
    "# print (df_results)\n",
    "\n",
    "print (\" ===============================================================================\")\n",
    "\n",
    "Mtx_Row = 1\n",
    "Mtx_Col = 1\n",
    "\n",
    "\n",
    "for fn in os.listdir('fulltext'):\n",
    "    if not fn.endswith(\".pdf\"):\n",
    "        continue\n",
    "    reader = PyPDF2.PdfReader(\"fulltext/\" + fn)\n",
    "    arr = {};\n",
    "    for kw in list_kw_1:\n",
    "        arr[kw] = DocContains(kw, reader)\n",
    "        print (\"Row: \", Mtx_Col, \" Column: \" , Mtx_Row , \" Arr: \", arr[kw] , \"\\n\")\n",
    "        Matrix[Mtx_Row][Mtx_Col] = arr[kw]\n",
    "        Mtx_Row += 1\n",
    "    # print(idx, fn[:-4], arr)\n",
    "    idx += 1\n",
    "    Mtx_Col += 1\n",
    "    Mtx_Row = 1\n",
    "    results[fn[:-4]] = arr\n",
    "    \n",
    "\n",
    "print (np.matrix(Matrix))"
   ]
  },
  {
   "cell_type": "code",
   "execution_count": 62,
   "id": "respective-imagination",
   "metadata": {
    "tags": []
   },
   "outputs": [],
   "source": [
    "df = pd.DataFrame(Matrix)"
   ]
  },
  {
   "cell_type": "code",
   "execution_count": 63,
   "id": "miniature-cambodia",
   "metadata": {
    "tags": []
   },
   "outputs": [],
   "source": [
    "#df = df.reset_index().drop('index', axis=1)\n",
    "#df.drop(columns=df.columns[0], axis=1,  inplace=True) #drop first column\n",
    "df.drop(columns=df.columns[-1], axis=1,  inplace=True) #drop last column\n",
    "df.to_csv(\"fulltext_analysis_detailed.csv\")"
   ]
  }
 ],
 "metadata": {
  "kernelspec": {
   "display_name": "Python 3",
   "language": "python",
   "name": "python3"
  },
  "language_info": {
   "codemirror_mode": {
    "name": "ipython",
    "version": 3
   },
   "file_extension": ".py",
   "mimetype": "text/x-python",
   "name": "python",
   "nbconvert_exporter": "python",
   "pygments_lexer": "ipython3",
   "version": "3.8.5"
  }
 },
 "nbformat": 4,
 "nbformat_minor": 5
}
